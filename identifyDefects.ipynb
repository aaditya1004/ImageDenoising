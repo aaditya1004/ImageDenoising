{
  "nbformat": 4,
  "nbformat_minor": 0,
  "metadata": {
    "colab": {
      "name": "identifyDefects.ipynb",
      "version": "0.3.2",
      "provenance": [],
      "collapsed_sections": [],
      "include_colab_link": true
    },
    "kernelspec": {
      "name": "python3",
      "display_name": "Python 3"
    },
    "accelerator": "GPU"
  },
  "cells": [
    {
      "cell_type": "markdown",
      "metadata": {
        "id": "view-in-github",
        "colab_type": "text"
      },
      "source": [
        "<a href=\"https://colab.research.google.com/github/aaditya1004/ImageDenoising/blob/master/identifyDefects.ipynb\" target=\"_parent\"><img src=\"https://colab.research.google.com/assets/colab-badge.svg\" alt=\"Open In Colab\"/></a>"
      ]
    },
    {
      "cell_type": "code",
      "metadata": {
        "id": "0y1tS-pdO79D",
        "colab_type": "code",
        "colab": {}
      },
      "source": [
        "!rm -rf Images"
      ],
      "execution_count": 0,
      "outputs": []
    },
    {
      "cell_type": "code",
      "metadata": {
        "id": "ZY1heBUQOkBb",
        "colab_type": "code",
        "outputId": "a2940fb3-7aeb-4454-c8f0-b24b751415f7",
        "colab": {
          "base_uri": "https://localhost:8080/",
          "height": 229
        }
      },
      "source": [
        "from google.colab import drive\n",
        "drive.mount('/content/drive',force_remount = True)"
      ],
      "execution_count": 2,
      "outputs": [
        {
          "output_type": "stream",
          "text": [
            "Go to this URL in a browser: https://accounts.google.com/o/oauth2/auth?client_id=947318989803-6bn6qk8qdgf4n4g3pfee6491hc0brc4i.apps.googleusercontent.com&redirect_uri=urn%3Aietf%3Awg%3Aoauth%3A2.0%3Aoob&scope=email%20https%3A%2F%2Fwww.googleapis.com%2Fauth%2Fdocs.test%20https%3A%2F%2Fwww.googleapis.com%2Fauth%2Fdrive%20https%3A%2F%2Fwww.googleapis.com%2Fauth%2Fdrive.photos.readonly%20https%3A%2F%2Fwww.googleapis.com%2Fauth%2Fpeopleapi.readonly&response_type=code\n",
            "\n",
            "Enter your authorization code:\n",
            "··········\n",
            "Mounted at /content/drive\n"
          ],
          "name": "stdout"
        }
      ]
    },
    {
      "cell_type": "code",
      "metadata": {
        "id": "R9ke2QtlOS1V",
        "colab_type": "code",
        "outputId": "aea35f12-e81f-4c24-ceb2-33bbc8b9c21a",
        "colab": {
          "base_uri": "https://localhost:8080/",
          "height": 1000
        }
      },
      "source": [
        "import zipfile as z\n",
        "!unzip '/content/Images.zip'\n",
        "\n"
      ],
      "execution_count": 3,
      "outputs": [
        {
          "output_type": "stream",
          "text": [
            "Archive:  /content/Images.zip\n",
            "   creating: Images/\n",
            "  inflating: Images/noisy726.jpg     \n",
            "  inflating: Images/noisy732.jpg     \n",
            "   creating: __MACOSX/\n",
            "   creating: __MACOSX/Images/\n",
            "  inflating: __MACOSX/Images/._noisy732.jpg  \n",
            "  inflating: Images/noisy281.jpg     \n",
            "  inflating: Images/noisy295.jpg     \n",
            "  inflating: Images/noisy524.jpg     \n",
            "  inflating: Images/noisy242.jpg     \n",
            "  inflating: Images/noisy256.jpg     \n",
            "  inflating: Images/noisy530.jpg     \n",
            "  inflating: Images/noisy518.jpg     \n",
            "  inflating: __MACOSX/Images/._noisy518.jpg  \n",
            "  inflating: Images/noisy493.jpg     \n",
            "  inflating: Images/noisy487.jpg     \n",
            "  inflating: Images/noisy450.jpg     \n",
            "  inflating: Images/noisy336.jpg     \n",
            "  inflating: Images/noisy322.jpg     \n",
            "  inflating: __MACOSX/Images/._noisy322.jpg  \n",
            "  inflating: Images/noisy444.jpg     \n",
            "  inflating: Images/noisy478.jpg     \n",
            "  inflating: Images/noisy691.jpg     \n",
            "  inflating: Images/noisy685.jpg     \n",
            "  inflating: Images/noisy134.jpg     \n",
            "  inflating: Images/noisy652.jpg     \n",
            "  inflating: Images/noisy646.jpg     \n",
            "  inflating: Images/noisy120.jpg     \n",
            "  inflating: Images/noisy35.jpg      \n",
            "  inflating: Images/noisy108.jpg     \n",
            "  inflating: Images/noisy21.jpg      \n",
            "  inflating: __MACOSX/Images/._noisy21.jpg  \n",
            "  inflating: Images/noisy20.jpg      \n",
            "  inflating: Images/noisy109.jpg     \n",
            "  inflating: Images/noisy34.jpg      \n",
            "  inflating: Images/noisy647.jpg     \n",
            "  inflating: Images/noisy121.jpg     \n",
            "  inflating: Images/noisy135.jpg     \n",
            "  inflating: Images/noisy653.jpg     \n",
            "  inflating: Images/noisy684.jpg     \n",
            "  inflating: Images/noisy690.jpg     \n",
            "  inflating: Images/noisy479.jpg     \n",
            "  inflating: Images/noisy323.jpg     \n",
            "  inflating: Images/noisy445.jpg     \n",
            "  inflating: Images/noisy451.jpg     \n",
            "  inflating: Images/noisy337.jpg     \n",
            "  inflating: Images/noisy486.jpg     \n",
            "  inflating: Images/noisy492.jpg     \n",
            "  inflating: Images/noisy519.jpg     \n",
            "  inflating: Images/noisy257.jpg     \n",
            "  inflating: Images/noisy531.jpg     \n",
            "  inflating: Images/noisy525.jpg     \n",
            "  inflating: Images/noisy243.jpg     \n",
            "  inflating: Images/noisy294.jpg     \n",
            "  inflating: Images/noisy280.jpg     \n",
            "  inflating: Images/noisy733.jpg     \n",
            "  inflating: __MACOSX/Images/._noisy733.jpg  \n",
            "  inflating: Images/noisy727.jpg     \n",
            "  inflating: Images/noisy731.jpg     \n",
            "  inflating: Images/noisy725.jpg     \n",
            "  inflating: __MACOSX/Images/._noisy725.jpg  \n",
            "  inflating: Images/noisy719.jpg     \n",
            "  inflating: Images/noisy296.jpg     \n",
            "  inflating: Images/noisy282.jpg     \n",
            "  inflating: Images/noisy533.jpg     \n",
            "  inflating: Images/noisy255.jpg     \n",
            "  inflating: Images/noisy241.jpg     \n",
            "  inflating: Images/noisy527.jpg     \n",
            "  inflating: Images/noisy269.jpg     \n",
            "  inflating: Images/noisy484.jpg     \n",
            "  inflating: Images/noisy490.jpg     \n",
            "  inflating: Images/noisy447.jpg     \n",
            "  inflating: Images/noisy321.jpg     \n",
            "  inflating: Images/noisy335.jpg     \n",
            "  inflating: __MACOSX/Images/._noisy335.jpg  \n",
            "  inflating: Images/noisy453.jpg     \n",
            "  inflating: Images/noisy309.jpg     \n",
            "  inflating: Images/noisy686.jpg     \n",
            "  inflating: Images/noisy692.jpg     \n",
            "  inflating: Images/noisy123.jpg     \n",
            "  inflating: __MACOSX/Images/._noisy123.jpg  \n",
            "  inflating: Images/noisy645.jpg     \n",
            "  inflating: Images/noisy651.jpg     \n",
            "  inflating: Images/noisy137.jpg     \n",
            "  inflating: Images/noisy22.jpg      \n",
            "  inflating: __MACOSX/Images/._noisy22.jpg  \n",
            "  inflating: Images/noisy679.jpg     \n",
            "  inflating: Images/noisy36.jpg      \n",
            "  inflating: Images/noisy37.jpg      \n",
            "  inflating: Images/noisy23.jpg      \n",
            "  inflating: Images/noisy678.jpg     \n",
            "  inflating: Images/noisy650.jpg     \n",
            "  inflating: Images/noisy136.jpg     \n",
            "  inflating: Images/noisy122.jpg     \n",
            "  inflating: Images/noisy644.jpg     \n",
            "  inflating: Images/noisy693.jpg     \n",
            "  inflating: Images/noisy687.jpg     \n",
            "  inflating: Images/noisy308.jpg     \n",
            "  inflating: Images/noisy334.jpg     \n",
            "  inflating: Images/noisy452.jpg     \n",
            "  inflating: Images/noisy446.jpg     \n",
            "  inflating: Images/noisy320.jpg     \n",
            "  inflating: Images/noisy491.jpg     \n",
            "  inflating: Images/noisy485.jpg     \n",
            "  inflating: Images/noisy268.jpg     \n",
            "  inflating: Images/noisy240.jpg     \n",
            "  inflating: Images/noisy526.jpg     \n",
            "  inflating: Images/noisy532.jpg     \n",
            "  inflating: Images/noisy254.jpg     \n",
            "  inflating: Images/noisy283.jpg     \n",
            "  inflating: Images/noisy297.jpg     \n",
            "  inflating: Images/noisy718.jpg     \n",
            "  inflating: Images/noisy724.jpg     \n",
            "  inflating: Images/noisy730.jpg     \n",
            "  inflating: Images/noisy708.jpg     \n",
            "  inflating: Images/noisy734.jpg     \n",
            "  inflating: Images/noisy720.jpg     \n",
            "  inflating: Images/noisy293.jpg     \n",
            "  inflating: Images/noisy287.jpg     \n",
            "  inflating: Images/noisy278.jpg     \n",
            "  inflating: Images/noisy250.jpg     \n",
            "  inflating: Images/noisy536.jpg     \n",
            "  inflating: Images/noisy522.jpg     \n",
            "  inflating: Images/noisy244.jpg     \n",
            "  inflating: Images/noisy481.jpg     \n",
            "  inflating: Images/noisy495.jpg     \n",
            "  inflating: Images/noisy318.jpg     \n",
            "  inflating: Images/noisy324.jpg     \n",
            "  inflating: Images/noisy442.jpg     \n",
            "  inflating: Images/noisy456.jpg     \n",
            "  inflating: Images/noisy330.jpg     \n",
            "  inflating: Images/.DS_Store        \n",
            "  inflating: __MACOSX/Images/._.DS_Store  \n",
            "  inflating: Images/noisy683.jpg     \n",
            "  inflating: Images/noisy697.jpg     \n",
            "  inflating: Images/noisy27.jpg      \n",
            "  inflating: Images/noisy33.jpg      \n",
            "  inflating: Images/noisy668.jpg     \n",
            "  inflating: Images/noisy640.jpg     \n",
            "  inflating: Images/noisy126.jpg     \n",
            "  inflating: Images/noisy132.jpg     \n",
            "  inflating: Images/noisy654.jpg     \n",
            "  inflating: Images/noisy133.jpg     \n",
            "  inflating: Images/noisy655.jpg     \n",
            "  inflating: Images/noisy641.jpg     \n",
            "  inflating: Images/noisy127.jpg     \n",
            "  inflating: Images/noisy32.jpg      \n",
            "  inflating: Images/noisy669.jpg     \n",
            "  inflating: Images/noisy26.jpg      \n",
            "  inflating: Images/noisy696.jpg     \n",
            "  inflating: Images/noisy682.jpg     \n",
            "  inflating: Images/noisy457.jpg     \n",
            "  inflating: Images/noisy331.jpg     \n",
            "  inflating: Images/noisy325.jpg     \n",
            "  inflating: Images/noisy443.jpg     \n",
            "  inflating: Images/noisy319.jpg     \n",
            "  inflating: Images/noisy494.jpg     \n",
            "  inflating: Images/noisy480.jpg     \n",
            "  inflating: Images/noisy523.jpg     \n",
            "  inflating: Images/noisy245.jpg     \n",
            "  inflating: Images/noisy251.jpg     \n",
            "  inflating: Images/noisy537.jpg     \n",
            "  inflating: Images/noisy279.jpg     \n",
            "  inflating: Images/noisy286.jpg     \n",
            "  inflating: Images/noisy292.jpg     \n",
            "  inflating: Images/noisy721.jpg     \n",
            "  inflating: Images/noisy735.jpg     \n",
            "  inflating: Images/noisy709.jpg     \n",
            "  inflating: Images/noisy723.jpg     \n",
            "  inflating: Images/noisy737.jpg     \n",
            "  inflating: Images/noisy284.jpg     \n",
            "  inflating: Images/noisy290.jpg     \n",
            "  inflating: Images/noisy509.jpg     \n",
            "  inflating: Images/noisy247.jpg     \n",
            "  inflating: Images/noisy521.jpg     \n",
            "  inflating: Images/noisy535.jpg     \n",
            "  inflating: Images/noisy253.jpg     \n",
            "  inflating: Images/noisy496.jpg     \n",
            "  inflating: Images/noisy482.jpg     \n",
            "  inflating: Images/noisy469.jpg     \n",
            "  inflating: Images/noisy333.jpg     \n",
            "  inflating: Images/noisy455.jpg     \n",
            "  inflating: Images/noisy441.jpg     \n",
            "  inflating: Images/noisy327.jpg     \n",
            "  inflating: Images/noisy694.jpg     \n",
            "  inflating: Images/noisy680.jpg     \n",
            "  inflating: Images/noisy30.jpg      \n",
            "  inflating: Images/noisy24.jpg      \n",
            "  inflating: Images/noisy119.jpg     \n",
            "  inflating: Images/noisy657.jpg     \n",
            "  inflating: Images/noisy131.jpg     \n",
            "  inflating: Images/noisy18.jpg      \n",
            "  inflating: Images/noisy125.jpg     \n",
            "  inflating: Images/noisy643.jpg     \n",
            "  inflating: Images/noisy124.jpg     \n",
            "  inflating: Images/noisy19.jpg      \n",
            "  inflating: Images/noisy642.jpg     \n",
            "  inflating: Images/noisy656.jpg     \n",
            "  inflating: Images/noisy130.jpg     \n",
            "  inflating: Images/noisy118.jpg     \n",
            "  inflating: Images/noisy25.jpg      \n",
            "  inflating: Images/noisy31.jpg      \n",
            "  inflating: Images/noisy681.jpg     \n",
            "  inflating: Images/noisy695.jpg     \n",
            "  inflating: Images/noisy440.jpg     \n",
            "  inflating: Images/noisy326.jpg     \n",
            "  inflating: Images/noisy332.jpg     \n",
            "  inflating: Images/noisy454.jpg     \n",
            "  inflating: Images/noisy468.jpg     \n",
            "  inflating: Images/noisy483.jpg     \n",
            "  inflating: Images/noisy497.jpg     \n",
            "  inflating: Images/noisy534.jpg     \n",
            "  inflating: Images/noisy252.jpg     \n",
            "  inflating: Images/noisy246.jpg     \n",
            "  inflating: Images/noisy520.jpg     \n",
            "  inflating: Images/noisy508.jpg     \n",
            "  inflating: Images/noisy291.jpg     \n",
            "  inflating: Images/noisy285.jpg     \n",
            "  inflating: Images/noisy736.jpg     \n",
            "  inflating: Images/noisy722.jpg     \n",
            "  inflating: Images/noisy745.jpg     \n",
            "  inflating: Images/noisy584.jpg     \n",
            "  inflating: Images/noisy590.jpg     \n",
            "  inflating: Images/noisy221.jpg     \n",
            "  inflating: Images/noisy547.jpg     \n",
            "  inflating: Images/noisy553.jpg     \n",
            "  inflating: Images/noisy235.jpg     \n",
            "  inflating: Images/noisy209.jpg     \n",
            "  inflating: Images/noisy396.jpg     \n",
            "  inflating: Images/noisy382.jpg     \n",
            "  inflating: Images/noisy355.jpg     \n",
            "  inflating: Images/noisy433.jpg     \n",
            "  inflating: Images/noisy427.jpg     \n",
            "  inflating: Images/noisy341.jpg     \n",
            "  inflating: Images/noisy369.jpg     \n",
            "  inflating: Images/noisy194.jpg     \n",
            "  inflating: Images/noisy180.jpg     \n",
            "  inflating: Images/noisy95.jpg      \n",
            "  inflating: Images/noisy81.jpg      \n",
            "  inflating: Images/noisy631.jpg     \n",
            "  inflating: Images/noisy8.jpg       \n",
            "  inflating: Images/noisy157.jpg     \n",
            "  inflating: Images/noisy143.jpg     \n",
            "  inflating: Images/noisy625.jpg     \n",
            "  inflating: Images/noisy56.jpg      \n",
            "  inflating: Images/noisy42.jpg      \n",
            "  inflating: Images/noisy619.jpg     \n",
            "  inflating: Images/noisy43.jpg      \n",
            "  inflating: Images/noisy618.jpg     \n",
            "  inflating: Images/noisy57.jpg      \n",
            "  inflating: Images/noisy142.jpg     \n",
            "  inflating: Images/noisy624.jpg     \n",
            "  inflating: Images/noisy630.jpg     \n",
            "  inflating: Images/noisy156.jpg     \n",
            "  inflating: Images/noisy9.jpg       \n",
            "  inflating: Images/noisy80.jpg      \n",
            "  inflating: Images/noisy94.jpg      \n",
            "  inflating: Images/noisy181.jpg     \n",
            "  inflating: Images/noisy195.jpg     \n",
            "  inflating: Images/noisy368.jpg     \n",
            "  inflating: Images/noisy426.jpg     \n",
            "  inflating: Images/noisy340.jpg     \n",
            "  inflating: Images/noisy354.jpg     \n",
            "  inflating: Images/noisy432.jpg     \n",
            "  inflating: Images/noisy383.jpg     \n",
            "  inflating: Images/noisy397.jpg     \n",
            "  inflating: Images/noisy208.jpg     \n",
            "  inflating: Images/noisy552.jpg     \n",
            "  inflating: Images/noisy234.jpg     \n",
            "  inflating: Images/noisy220.jpg     \n",
            "  inflating: Images/noisy546.jpg     \n",
            "  inflating: Images/noisy591.jpg     \n",
            "  inflating: Images/noisy585.jpg     \n",
            "  inflating: Images/noisy750.jpg     \n",
            "  inflating: Images/noisy744.jpg     \n",
            "  inflating: Images/noisy746.jpg     \n",
            "  inflating: Images/noisy593.jpg     \n",
            "  inflating: Images/noisy587.jpg     \n",
            "  inflating: Images/noisy236.jpg     \n",
            "  inflating: Images/noisy550.jpg     \n",
            "  inflating: Images/noisy544.jpg     \n",
            "  inflating: Images/noisy222.jpg     \n",
            "  inflating: Images/noisy578.jpg     \n",
            "  inflating: Images/noisy381.jpg     \n",
            "  inflating: Images/noisy395.jpg     \n",
            "  inflating: Images/noisy342.jpg     \n",
            "  inflating: Images/noisy424.jpg     \n",
            "  inflating: Images/noisy430.jpg     \n",
            "  inflating: Images/noisy356.jpg     \n",
            "  inflating: Images/noisy418.jpg     \n",
            "  inflating: Images/noisy183.jpg     \n",
            "  inflating: Images/noisy197.jpg     \n",
            "  inflating: Images/noisy82.jpg      \n",
            "  inflating: Images/noisy96.jpg      \n",
            "  inflating: Images/noisy626.jpg     \n",
            "  inflating: Images/noisy140.jpg     \n",
            "  inflating: Images/noisy69.jpg      \n",
            "  inflating: Images/noisy154.jpg     \n",
            "  inflating: Images/noisy632.jpg     \n",
            "  inflating: Images/noisy41.jpg      \n",
            "  inflating: Images/noisy55.jpg      \n",
            "  inflating: Images/noisy168.jpg     \n",
            "  inflating: Images/noisy169.jpg     \n",
            "  inflating: Images/noisy54.jpg      \n",
            "  inflating: Images/noisy40.jpg      \n",
            "  inflating: Images/noisy155.jpg     \n",
            "  inflating: Images/noisy68.jpg      \n",
            "  inflating: Images/noisy633.jpg     \n",
            "  inflating: Images/noisy627.jpg     \n",
            "  inflating: Images/noisy141.jpg     \n",
            "  inflating: Images/noisy97.jpg      \n",
            "  inflating: Images/noisy83.jpg      \n",
            "  inflating: Images/noisy196.jpg     \n",
            "  inflating: Images/noisy182.jpg     \n",
            "  inflating: Images/noisy419.jpg     \n",
            "  inflating: Images/noisy431.jpg     \n",
            "  inflating: Images/noisy357.jpg     \n",
            "  inflating: Images/noisy343.jpg     \n",
            "  inflating: Images/noisy425.jpg     \n",
            "  inflating: Images/noisy394.jpg     \n",
            "  inflating: Images/noisy380.jpg     \n",
            "  inflating: Images/noisy579.jpg     \n",
            "  inflating: Images/noisy545.jpg     \n",
            "  inflating: Images/noisy223.jpg     \n",
            "  inflating: Images/noisy237.jpg     \n",
            "  inflating: Images/noisy551.jpg     \n",
            "  inflating: Images/noisy586.jpg     \n",
            "  inflating: Images/noisy592.jpg     \n",
            "  inflating: Images/noisy747.jpg     \n",
            "  inflating: Images/noisy743.jpg     \n",
            "  inflating: Images/noisy596.jpg     \n",
            "  inflating: Images/noisy582.jpg     \n",
            "  inflating: Images/noisy569.jpg     \n",
            "  inflating: Images/noisy555.jpg     \n",
            "  inflating: Images/noisy233.jpg     \n",
            "  inflating: Images/noisy227.jpg     \n",
            "  inflating: Images/noisy541.jpg     \n",
            "  inflating: Images/noisy384.jpg     \n",
            "  inflating: Images/noisy390.jpg     \n",
            "  inflating: Images/noisy409.jpg     \n",
            "  inflating: Images/noisy421.jpg     \n",
            "  inflating: Images/noisy347.jpg     \n",
            "  inflating: Images/noisy353.jpg     \n",
            "  inflating: Images/noisy435.jpg     \n",
            "  inflating: Images/noisy87.jpg      \n",
            "  inflating: Images/noisy93.jpg      \n",
            "  inflating: Images/noisy186.jpg     \n",
            "  inflating: Images/noisy192.jpg     \n",
            "  inflating: Images/noisy44.jpg      \n",
            "  inflating: Images/noisy179.jpg     \n",
            "  inflating: Images/noisy50.jpg      \n",
            "  inflating: Images/noisy78.jpg      \n",
            "  inflating: Images/noisy145.jpg     \n",
            "  inflating: Images/noisy623.jpg     \n",
            "  inflating: Images/noisy637.jpg     \n",
            "  inflating: Images/noisy151.jpg     \n",
            "  inflating: Images/noisy636.jpg     \n",
            "  inflating: Images/noisy150.jpg     \n",
            "  inflating: Images/noisy144.jpg     \n",
            "  inflating: Images/noisy79.jpg      \n",
            "  inflating: Images/noisy622.jpg     \n",
            "  inflating: Images/noisy51.jpg      \n",
            "  inflating: Images/noisy178.jpg     \n",
            "  inflating: Images/noisy45.jpg      \n",
            "  inflating: Images/noisy193.jpg     \n",
            "  inflating: Images/noisy187.jpg     \n",
            "  inflating: Images/noisy92.jpg      \n",
            "  inflating: Images/noisy86.jpg      \n",
            "  inflating: Images/noisy352.jpg     \n",
            "  inflating: Images/noisy434.jpg     \n",
            "  inflating: Images/noisy420.jpg     \n",
            "  inflating: Images/noisy346.jpg     \n",
            "  inflating: Images/noisy408.jpg     \n",
            "  inflating: Images/noisy391.jpg     \n",
            "  inflating: Images/noisy385.jpg     \n",
            "  inflating: Images/noisy226.jpg     \n",
            "  inflating: Images/noisy540.jpg     \n",
            "  inflating: Images/noisy554.jpg     \n",
            "  inflating: Images/noisy232.jpg     \n",
            "  inflating: Images/noisy568.jpg     \n",
            "  inflating: Images/noisy583.jpg     \n",
            "  inflating: Images/noisy597.jpg     \n",
            "  inflating: Images/noisy742.jpg     \n",
            "  inflating: Images/noisy740.jpg     \n",
            "  inflating: Images/noisy581.jpg     \n",
            "  inflating: Images/noisy595.jpg     \n",
            "  inflating: Images/noisy218.jpg     \n",
            "  inflating: Images/noisy542.jpg     \n",
            "  inflating: Images/noisy224.jpg     \n",
            "  inflating: Images/noisy230.jpg     \n",
            "  inflating: Images/noisy556.jpg     \n",
            "  inflating: Images/noisy393.jpg     \n",
            "  inflating: Images/noisy387.jpg     \n",
            "  inflating: Images/noisy378.jpg     \n",
            "  inflating: Images/noisy436.jpg     \n",
            "  inflating: Images/noisy350.jpg     \n",
            "  inflating: Images/noisy344.jpg     \n",
            "  inflating: Images/noisy422.jpg     \n",
            "  inflating: Images/noisy90.jpg      \n",
            "  inflating: Images/noisy84.jpg      \n",
            "  inflating: Images/noisy191.jpg     \n",
            "  inflating: Images/noisy185.jpg     \n",
            "  inflating: Images/noisy53.jpg      \n",
            "  inflating: Images/noisy608.jpg     \n",
            "  inflating: Images/noisy47.jpg      \n",
            "  inflating: Images/noisy152.jpg     \n",
            "  inflating: Images/noisy634.jpg     \n",
            "  inflating: Images/noisy620.jpg     \n",
            "  inflating: Images/noisy146.jpg     \n",
            "  inflating: Images/noisy621.jpg     \n",
            "  inflating: Images/noisy147.jpg     \n",
            "  inflating: Images/noisy153.jpg     \n",
            "  inflating: Images/noisy635.jpg     \n",
            "  inflating: Images/noisy46.jpg      \n",
            "  inflating: Images/noisy52.jpg      \n",
            "  inflating: Images/noisy609.jpg     \n",
            "  inflating: Images/noisy184.jpg     \n",
            "  inflating: Images/noisy190.jpg     \n",
            "  inflating: Images/noisy85.jpg      \n",
            "  inflating: Images/noisy91.jpg      \n",
            "  inflating: Images/noisy345.jpg     \n",
            "  inflating: Images/noisy423.jpg     \n",
            "  inflating: Images/noisy437.jpg     \n",
            "  inflating: Images/noisy351.jpg     \n",
            "  inflating: Images/noisy379.jpg     \n",
            "  inflating: Images/noisy386.jpg     \n",
            "  inflating: Images/noisy392.jpg     \n",
            "  inflating: Images/noisy231.jpg     \n",
            "  inflating: Images/noisy557.jpg     \n",
            "  inflating: Images/noisy543.jpg     \n",
            "  inflating: Images/noisy225.jpg     \n",
            "  inflating: Images/noisy219.jpg     \n",
            "  inflating: Images/noisy594.jpg     \n",
            "  inflating: Images/noisy580.jpg     \n",
            "  inflating: Images/noisy741.jpg     \n",
            "  inflating: Images/noisy599.jpg     \n",
            "  inflating: Images/noisy200.jpg     \n",
            "  inflating: Images/noisy566.jpg     \n",
            "  inflating: Images/noisy572.jpg     \n",
            "  inflating: Images/noisy214.jpg     \n",
            "  inflating: Images/noisy228.jpg     \n",
            "  inflating: Images/noisy374.jpg     \n",
            "  inflating: Images/noisy412.jpg     \n",
            "  inflating: Images/noisy406.jpg     \n",
            "  inflating: Images/noisy360.jpg     \n",
            "  inflating: Images/noisy348.jpg     \n",
            "  inflating: Images/noisy88.jpg      \n",
            "  inflating: Images/noisy189.jpg     \n",
            "  inflating: Images/noisy610.jpg     \n",
            "  inflating: Images/noisy176.jpg     \n",
            "  inflating: Images/noisy162.jpg     \n",
            "  inflating: Images/noisy604.jpg     \n",
            "  inflating: Images/noisy77.jpg      \n",
            "  inflating: Images/noisy63.jpg      \n",
            "  inflating: Images/noisy1.jpg       \n",
            "  inflating: Images/noisy638.jpg     \n",
            "  inflating: Images/noisy62.jpg      \n",
            "  inflating: Images/noisy639.jpg     \n",
            "  inflating: Images/noisy76.jpg      \n",
            "  inflating: Images/noisy163.jpg     \n",
            "  inflating: Images/noisy605.jpg     \n",
            "  inflating: Images/noisy611.jpg     \n",
            "  inflating: Images/noisy177.jpg     \n",
            "  inflating: Images/noisy188.jpg     \n",
            "  inflating: Images/noisy89.jpg      \n",
            "  inflating: Images/noisy349.jpg     \n",
            "  inflating: Images/noisy407.jpg     \n",
            "  inflating: Images/noisy361.jpg     \n",
            "  inflating: Images/noisy375.jpg     \n",
            "  inflating: Images/noisy413.jpg     \n",
            "  inflating: Images/noisy229.jpg     \n",
            "  inflating: Images/noisy573.jpg     \n",
            "  inflating: Images/noisy215.jpg     \n",
            "  inflating: Images/noisy201.jpg     \n",
            "  inflating: Images/noisy567.jpg     \n",
            "  inflating: Images/noisy598.jpg     \n",
            "  inflating: Images/noisy217.jpg     \n",
            "  inflating: Images/noisy571.jpg     \n",
            "  inflating: Images/noisy565.jpg     \n",
            "  inflating: Images/noisy203.jpg     \n",
            "  inflating: Images/noisy559.jpg     \n",
            "  inflating: Images/noisy388.jpg     \n",
            "  inflating: Images/noisy363.jpg     \n",
            "  inflating: Images/noisy405.jpg     \n",
            "  inflating: Images/noisy411.jpg     \n",
            "  inflating: Images/noisy377.jpg     \n",
            "  inflating: Images/noisy439.jpg     \n",
            "  inflating: Images/noisy607.jpg     \n",
            "  inflating: Images/noisy161.jpg     \n",
            "  inflating: Images/noisy48.jpg      \n",
            "  inflating: Images/noisy175.jpg     \n",
            "  inflating: Images/noisy613.jpg     \n",
            "  inflating: Images/noisy2.jpg       \n",
            "  inflating: Images/noisy60.jpg      \n",
            "  inflating: Images/noisy74.jpg      \n",
            "  inflating: Images/noisy149.jpg     \n",
            "  inflating: Images/noisy148.jpg     \n",
            "  inflating: Images/noisy75.jpg      \n",
            "  inflating: Images/noisy3.jpg       \n",
            "  inflating: Images/noisy61.jpg      \n",
            "  inflating: Images/noisy174.jpg     \n",
            "  inflating: Images/noisy49.jpg      \n",
            "  inflating: Images/noisy612.jpg     \n",
            "  inflating: Images/noisy606.jpg     \n",
            "  inflating: Images/noisy160.jpg     \n",
            "  inflating: Images/noisy438.jpg     \n",
            "  inflating: Images/noisy410.jpg     \n",
            "  inflating: Images/noisy376.jpg     \n",
            "  inflating: Images/noisy362.jpg     \n",
            "  inflating: Images/noisy404.jpg     \n",
            "  inflating: Images/noisy389.jpg     \n",
            "  inflating: Images/noisy558.jpg     \n",
            "  inflating: Images/noisy564.jpg     \n",
            "  inflating: Images/noisy202.jpg     \n",
            "  inflating: Images/noisy216.jpg     \n",
            "  inflating: Images/noisy570.jpg     \n",
            "  inflating: Images/noisy548.jpg     \n",
            "  inflating: Images/noisy574.jpg     \n",
            "  inflating: Images/noisy212.jpg     \n",
            "  inflating: Images/noisy206.jpg     \n",
            "  inflating: Images/noisy560.jpg     \n",
            "  inflating: Images/noisy399.jpg     \n",
            "  inflating: Images/noisy428.jpg     \n",
            "  inflating: Images/noisy400.jpg     \n",
            "  inflating: Images/noisy366.jpg     \n",
            "  inflating: Images/noisy372.jpg     \n",
            "  inflating: Images/noisy414.jpg     \n",
            "  inflating: Images/noisy65.jpg      \n",
            "  inflating: Images/noisy7.jpg       \n",
            "  inflating: Images/noisy158.jpg     \n",
            "  inflating: Images/noisy71.jpg      \n",
            "  inflating: Images/noisy59.jpg      \n",
            "  inflating: Images/noisy164.jpg     \n",
            "  inflating: Images/noisy602.jpg     \n",
            "  inflating: Images/noisy616.jpg     \n",
            "  inflating: Images/noisy170.jpg     \n",
            "  inflating: Images/noisy617.jpg     \n",
            "  inflating: Images/noisy171.jpg     \n",
            "  inflating: Images/noisy165.jpg     \n",
            "  inflating: Images/noisy58.jpg      \n",
            "  inflating: Images/noisy603.jpg     \n",
            "  inflating: Images/noisy70.jpg      \n",
            "  inflating: Images/noisy159.jpg     \n",
            "  inflating: Images/noisy64.jpg      \n",
            "  inflating: Images/noisy6.jpg       \n",
            "  inflating: Images/noisy373.jpg     \n",
            "  inflating: Images/noisy415.jpg     \n",
            "  inflating: Images/noisy401.jpg     \n",
            "  inflating: Images/noisy367.jpg     \n",
            "  inflating: Images/noisy429.jpg     \n",
            "  inflating: Images/noisy398.jpg     \n",
            "  inflating: Images/noisy207.jpg     \n",
            "  inflating: Images/noisy561.jpg     \n",
            "  inflating: Images/noisy575.jpg     \n",
            "  inflating: Images/noisy213.jpg     \n",
            "  inflating: Images/noisy549.jpg     \n",
            "  inflating: Images/noisy749.jpg     \n",
            "  inflating: Images/noisy588.jpg     \n",
            "  inflating: Images/noisy239.jpg     \n",
            "  inflating: Images/noisy563.jpg     \n",
            "  inflating: Images/noisy205.jpg     \n",
            "  inflating: Images/noisy211.jpg     \n",
            "  inflating: Images/noisy577.jpg     \n",
            "  inflating: Images/noisy359.jpg     \n",
            "  inflating: Images/noisy417.jpg     \n",
            "  inflating: Images/noisy371.jpg     \n",
            "  inflating: Images/noisy365.jpg     \n",
            "  inflating: Images/noisy403.jpg     \n",
            "  inflating: Images/noisy198.jpg     \n",
            "  inflating: Images/noisy99.jpg      \n",
            "  inflating: Images/noisy72.jpg      \n",
            "  inflating: Images/noisy629.jpg     \n",
            "  inflating: Images/noisy4.jpg       \n",
            "  inflating: Images/noisy66.jpg      \n",
            "  inflating: Images/noisy173.jpg     \n",
            "  inflating: Images/noisy615.jpg     \n",
            "  inflating: Images/noisy601.jpg     \n",
            "  inflating: Images/noisy167.jpg     \n",
            "  inflating: Images/noisy600.jpg     \n",
            "  inflating: Images/noisy166.jpg     \n",
            "  inflating: Images/noisy172.jpg     \n",
            "  inflating: Images/noisy614.jpg     \n",
            "  inflating: Images/noisy5.jpg       \n",
            "  inflating: Images/noisy67.jpg      \n",
            "  inflating: Images/noisy73.jpg      \n",
            "  inflating: Images/noisy628.jpg     \n",
            "  inflating: Images/noisy98.jpg      \n",
            "  inflating: Images/noisy199.jpg     \n",
            "  inflating: Images/noisy364.jpg     \n",
            "  inflating: Images/noisy402.jpg     \n",
            "  inflating: Images/noisy416.jpg     \n",
            "  inflating: Images/noisy370.jpg     \n",
            "  inflating: Images/noisy358.jpg     \n",
            "  inflating: Images/noisy210.jpg     \n",
            "  inflating: Images/noisy576.jpg     \n",
            "  inflating: Images/noisy562.jpg     \n",
            "  inflating: Images/noisy204.jpg     \n",
            "  inflating: Images/noisy238.jpg     \n",
            "  inflating: Images/noisy589.jpg     \n",
            "  inflating: Images/noisy748.jpg     \n",
            "  inflating: Images/noisy707.jpg     \n",
            "  inflating: Images/noisy713.jpg     \n",
            "  inflating: Images/noisy288.jpg     \n",
            "  inflating: Images/noisy505.jpg     \n",
            "  inflating: Images/noisy263.jpg     \n",
            "  inflating: Images/noisy277.jpg     \n",
            "  inflating: Images/noisy511.jpg     \n",
            "  inflating: Images/noisy539.jpg     \n",
            "  inflating: Images/noisy471.jpg     \n",
            "  inflating: Images/noisy317.jpg     \n",
            "  inflating: Images/noisy303.jpg     \n",
            "  inflating: Images/noisy465.jpg     \n",
            "  inflating: Images/noisy459.jpg     \n",
            "  inflating: Images/noisy698.jpg     \n",
            "  inflating: Images/noisy28.jpg      \n",
            "  inflating: Images/noisy115.jpg     \n",
            "  inflating: Images/noisy673.jpg     \n",
            "  inflating: Images/noisy667.jpg     \n",
            "  inflating: Images/noisy101.jpg     \n",
            "  inflating: Images/noisy14.jpg      \n",
            "  inflating: Images/noisy129.jpg     \n",
            "  inflating: Images/noisy128.jpg     \n",
            "  inflating: Images/noisy15.jpg      \n",
            "  inflating: Images/noisy666.jpg     \n",
            "  inflating: Images/noisy100.jpg     \n",
            "  inflating: Images/noisy114.jpg     \n",
            "  inflating: Images/noisy29.jpg      \n",
            "  inflating: Images/noisy672.jpg     \n",
            "  inflating: Images/noisy699.jpg     \n",
            "  inflating: Images/noisy458.jpg     \n",
            "  inflating: Images/noisy302.jpg     \n",
            "  inflating: Images/noisy464.jpg     \n",
            "  inflating: Images/noisy470.jpg     \n",
            "  inflating: Images/noisy316.jpg     \n",
            "  inflating: Images/noisy538.jpg     \n",
            "  inflating: Images/noisy276.jpg     \n",
            "  inflating: Images/noisy510.jpg     \n",
            "  inflating: Images/noisy504.jpg     \n",
            "  inflating: Images/noisy262.jpg     \n",
            "  inflating: Images/noisy289.jpg     \n",
            "  inflating: Images/noisy712.jpg     \n",
            "  inflating: Images/noisy706.jpg     \n",
            "  inflating: __MACOSX/Images/._noisy706.jpg  \n",
            "  inflating: Images/noisy710.jpg     \n",
            "  inflating: Images/noisy704.jpg     \n",
            "  inflating: Images/noisy738.jpg     \n",
            "  inflating: Images/noisy512.jpg     \n",
            "  inflating: Images/noisy274.jpg     \n",
            "  inflating: Images/noisy260.jpg     \n",
            "  inflating: Images/noisy506.jpg     \n",
            "  inflating: Images/noisy248.jpg     \n",
            "  inflating: Images/noisy499.jpg     \n",
            "  inflating: Images/noisy466.jpg     \n",
            "  inflating: Images/noisy300.jpg     \n",
            "  inflating: Images/noisy314.jpg     \n",
            "  inflating: Images/noisy472.jpg     \n",
            "  inflating: Images/noisy328.jpg     \n",
            "  inflating: Images/noisy102.jpg     \n",
            "  inflating: Images/noisy664.jpg     \n",
            "  inflating: Images/noisy670.jpg     \n",
            "  inflating: Images/noisy116.jpg     \n",
            "  inflating: Images/noisy658.jpg     \n",
            "  inflating: Images/noisy17.jpg      \n",
            "  inflating: Images/noisy16.jpg      \n",
            "  inflating: Images/noisy659.jpg     \n",
            "  inflating: Images/noisy671.jpg     \n",
            "  inflating: Images/noisy117.jpg     \n",
            "  inflating: Images/noisy103.jpg     \n",
            "  inflating: Images/noisy665.jpg     \n",
            "  inflating: Images/noisy329.jpg     \n",
            "  inflating: Images/noisy315.jpg     \n",
            "  inflating: Images/noisy473.jpg     \n",
            "  inflating: Images/noisy467.jpg     \n",
            "  inflating: Images/noisy301.jpg     \n",
            "  inflating: Images/noisy498.jpg     \n",
            "  inflating: Images/noisy249.jpg     \n",
            "  inflating: Images/noisy261.jpg     \n",
            "  inflating: Images/noisy507.jpg     \n",
            "  inflating: Images/noisy513.jpg     \n",
            "  inflating: Images/noisy275.jpg     \n",
            "  inflating: Images/noisy739.jpg     \n",
            "  inflating: Images/noisy705.jpg     \n",
            "  inflating: Images/noisy711.jpg     \n",
            "  inflating: Images/noisy729.jpg     \n",
            "  inflating: Images/noisy715.jpg     \n",
            "  inflating: Images/noisy701.jpg     \n",
            "  inflating: Images/noisy259.jpg     \n",
            "  inflating: Images/noisy271.jpg     \n",
            "  inflating: Images/noisy517.jpg     \n",
            "  inflating: Images/noisy503.jpg     \n",
            "  inflating: Images/noisy265.jpg     \n",
            "  inflating: Images/noisy488.jpg     \n",
            "  inflating: Images/noisy339.jpg     \n",
            "  inflating: Images/noisy305.jpg     \n",
            "  inflating: Images/noisy463.jpg     \n",
            "  inflating: Images/noisy477.jpg     \n",
            "  inflating: Images/noisy311.jpg     \n",
            "  inflating: Images/noisy12.jpg      \n",
            "  inflating: Images/noisy649.jpg     \n",
            "  inflating: Images/noisy661.jpg     \n",
            "  inflating: Images/noisy107.jpg     \n",
            "  inflating: Images/noisy113.jpg     \n",
            "  inflating: Images/noisy675.jpg     \n",
            "  inflating: Images/noisy112.jpg     \n",
            "  inflating: Images/noisy674.jpg     \n",
            "  inflating: Images/noisy660.jpg     \n",
            "  inflating: Images/noisy106.jpg     \n",
            "  inflating: Images/noisy13.jpg      \n",
            "  inflating: Images/noisy648.jpg     \n",
            "  inflating: Images/noisy476.jpg     \n",
            "  inflating: Images/noisy310.jpg     \n",
            "  inflating: Images/noisy304.jpg     \n",
            "  inflating: Images/noisy462.jpg     \n",
            "  inflating: Images/noisy338.jpg     \n",
            "  inflating: Images/noisy489.jpg     \n",
            "  inflating: Images/noisy502.jpg     \n",
            "  inflating: Images/noisy264.jpg     \n",
            "  inflating: Images/noisy270.jpg     \n",
            "  inflating: Images/noisy516.jpg     \n",
            "  inflating: Images/noisy258.jpg     \n",
            "  inflating: Images/noisy700.jpg     \n",
            "  inflating: Images/noisy714.jpg     \n",
            "  inflating: Images/noisy728.jpg     \n",
            "  inflating: Images/noisy702.jpg     \n",
            "  inflating: Images/noisy716.jpg     \n",
            "  inflating: Images/noisy299.jpg     \n",
            "  inflating: Images/noisy528.jpg     \n",
            "  inflating: Images/noisy266.jpg     \n",
            "  inflating: Images/noisy500.jpg     \n",
            "  inflating: Images/noisy514.jpg     \n",
            "  inflating: Images/noisy272.jpg     \n",
            "  inflating: Images/noisy448.jpg     \n",
            "  inflating: Images/noisy312.jpg     \n",
            "  inflating: Images/noisy474.jpg     \n",
            "  inflating: Images/noisy460.jpg     \n",
            "  inflating: Images/noisy306.jpg     \n",
            "  inflating: Images/noisy689.jpg     \n",
            "  inflating: Images/noisy11.jpg      \n",
            "  inflating: Images/noisy138.jpg     \n",
            "  inflating: Images/noisy676.jpg     \n",
            "  inflating: Images/noisy110.jpg     \n",
            "  inflating: Images/noisy39.jpg      \n",
            "  inflating: Images/noisy104.jpg     \n",
            "  inflating: Images/noisy662.jpg     \n",
            "  inflating: Images/noisy105.jpg     \n",
            "  inflating: Images/noisy38.jpg      \n",
            "  inflating: Images/noisy663.jpg     \n",
            "  inflating: Images/noisy677.jpg     \n",
            "  inflating: Images/noisy111.jpg     \n",
            "  inflating: Images/noisy139.jpg     \n",
            "  inflating: Images/noisy10.jpg      \n",
            "  inflating: Images/noisy688.jpg     \n",
            "  inflating: Images/noisy461.jpg     \n",
            "  inflating: Images/noisy307.jpg     \n",
            "  inflating: Images/noisy313.jpg     \n",
            "  inflating: Images/noisy475.jpg     \n",
            "  inflating: Images/noisy449.jpg     \n",
            "  inflating: Images/noisy515.jpg     \n",
            "  inflating: Images/noisy273.jpg     \n",
            "  inflating: Images/noisy267.jpg     \n",
            "  inflating: Images/noisy501.jpg     \n",
            "  inflating: Images/noisy529.jpg     \n",
            "  inflating: Images/noisy298.jpg     \n",
            "  inflating: Images/noisy717.jpg     \n",
            "  inflating: Images/noisy703.jpg     \n"
          ],
          "name": "stdout"
        }
      ]
    },
    {
      "cell_type": "code",
      "metadata": {
        "id": "HR9ez8gt_DhT",
        "colab_type": "code",
        "colab": {}
      },
      "source": [
        "import numpy as np\n",
        "import pandas as pd "
      ],
      "execution_count": 0,
      "outputs": []
    },
    {
      "cell_type": "code",
      "metadata": {
        "id": "QlDinZiCAhtE",
        "colab_type": "code",
        "outputId": "92a79c2c-0c60-42d4-c92f-d75816e84c86",
        "colab": {
          "base_uri": "https://localhost:8080/",
          "height": 119
        }
      },
      "source": [
        "train = pd.read_csv('train_labels.csv')\n",
        "print(train.head())"
      ],
      "execution_count": 5,
      "outputs": [
        {
          "output_type": "stream",
          "text": [
            "    image  Noise  Blur  Low Light  Low Resolution   Compression Artifact \n",
            "0  noisy1      0     0          0                1                      0\n",
            "1  noisy2      1     0          1                1                      0\n",
            "2  noisy3      1     1          0                1                      1\n",
            "3  noisy4      1     0          1                0                      1\n",
            "4  noisy5      1     1          1                0                      0\n"
          ],
          "name": "stdout"
        }
      ]
    },
    {
      "cell_type": "code",
      "metadata": {
        "id": "SvWt8H49BRNt",
        "colab_type": "code",
        "outputId": "8f5aa637-0661-4cc4-d3e9-ac0b39adec52",
        "colab": {
          "base_uri": "https://localhost:8080/",
          "height": 34
        }
      },
      "source": [
        "train.shape[0]"
      ],
      "execution_count": 6,
      "outputs": [
        {
          "output_type": "execute_result",
          "data": {
            "text/plain": [
              "750"
            ]
          },
          "metadata": {
            "tags": []
          },
          "execution_count": 6
        }
      ]
    },
    {
      "cell_type": "code",
      "metadata": {
        "id": "VxLSf3NMCB_c",
        "colab_type": "code",
        "outputId": "a2b35d6a-c23f-410c-8249-c38d5e231384",
        "colab": {
          "base_uri": "https://localhost:8080/",
          "height": 34
        }
      },
      "source": [
        "y = np.array(train.drop(['image'],axis = 1))\n",
        "y.shape"
      ],
      "execution_count": 7,
      "outputs": [
        {
          "output_type": "execute_result",
          "data": {
            "text/plain": [
              "(750, 5)"
            ]
          },
          "metadata": {
            "tags": []
          },
          "execution_count": 7
        }
      ]
    },
    {
      "cell_type": "code",
      "metadata": {
        "id": "tREPJOQEKf90",
        "colab_type": "code",
        "outputId": "8a6963c3-aa1e-4e4b-da0a-4421efa8cbf3",
        "colab": {
          "base_uri": "https://localhost:8080/",
          "height": 34
        }
      },
      "source": [
        "from keras.preprocessing import image\n",
        "import tqdm as tqdm\n",
        "\n"
      ],
      "execution_count": 8,
      "outputs": [
        {
          "output_type": "stream",
          "text": [
            "Using TensorFlow backend.\n"
          ],
          "name": "stderr"
        }
      ]
    },
    {
      "cell_type": "code",
      "metadata": {
        "id": "cU2PrcwaK62y",
        "colab_type": "code",
        "colab": {}
      },
      "source": [
        "train_image = []\n",
        "for i in range (750):\n",
        "  img = image.load_img('/content/Images/'+train['image'][i]+'.jpg',target_size=(256,256,3))\n",
        "  img = image.img_to_array(img)\n",
        "  img = img/255\n",
        "  train_image.append(img)\n",
        "  \n",
        "x = np.array(train_image)"
      ],
      "execution_count": 0,
      "outputs": []
    },
    {
      "cell_type": "code",
      "metadata": {
        "id": "XvjpGUnDMGHj",
        "colab_type": "code",
        "colab": {
          "base_uri": "https://localhost:8080/",
          "height": 34
        },
        "outputId": "c81e2ca1-9971-46d9-a53d-71f5497120f3"
      },
      "source": [
        "x.shape"
      ],
      "execution_count": 10,
      "outputs": [
        {
          "output_type": "execute_result",
          "data": {
            "text/plain": [
              "(750, 256, 256, 3)"
            ]
          },
          "metadata": {
            "tags": []
          },
          "execution_count": 10
        }
      ]
    },
    {
      "cell_type": "code",
      "metadata": {
        "id": "qr3rBx8DfPK-",
        "colab_type": "code",
        "colab": {
          "base_uri": "https://localhost:8080/",
          "height": 286
        },
        "outputId": "f8b49658-7e94-4f6e-e8a5-5082dce34afe"
      },
      "source": [
        "import matplotlib.pyplot as plt\n",
        "plt.imshow(x[7])"
      ],
      "execution_count": 15,
      "outputs": [
        {
          "output_type": "execute_result",
          "data": {
            "text/plain": [
              "<matplotlib.image.AxesImage at 0x7f2fd1f83ac8>"
            ]
          },
          "metadata": {
            "tags": []
          },
          "execution_count": 15
        },
        {
          "output_type": "display_data",
          "data": {
            "image/png": "[encoded data removed]",
            "text/plain": [
              "<Figure size 432x288 with 1 Axes>"
            ]
          },
          "metadata": {
            "tags": []
          }
        }
      ]
    },
    {
      "cell_type": "code",
      "metadata": {
        "id": "pO9GWGB_fR5A",
        "colab_type": "code",
        "colab": {
          "base_uri": "https://localhost:8080/",
          "height": 34
        },
        "outputId": "21579992-5144-4414-8c1d-390557e9d624"
      },
      "source": [
        "y[7]"
      ],
      "execution_count": 16,
      "outputs": [
        {
          "output_type": "execute_result",
          "data": {
            "text/plain": [
              "array([0, 0, 0, 1, 1])"
            ]
          },
          "metadata": {
            "tags": []
          },
          "execution_count": 16
        }
      ]
    },
    {
      "cell_type": "code",
      "metadata": {
        "id": "u3pmR0YMfs6e",
        "colab_type": "code",
        "colab": {}
      },
      "source": [
        "from sklearn.model_selection import train_test_split\n",
        "x_train, x_test, y_train, y_test = train_test_split(x, y, random_state=42, test_size=0.1)"
      ],
      "execution_count": 0,
      "outputs": []
    },
    {
      "cell_type": "code",
      "metadata": {
        "id": "2fr4-dQAgEL0",
        "colab_type": "code",
        "colab": {}
      },
      "source": [
        "from keras.models import Sequential \n",
        "from keras.layers import Conv2D, MaxPooling2D, Dropout, Flatten\n",
        "\n",
        "model = Sequential()"
      ],
      "execution_count": 0,
      "outputs": []
    },
    {
      "cell_type": "code",
      "metadata": {
        "id": "aV75fso7hTuB",
        "colab_type": "code",
        "colab": {}
      },
      "source": [
        "model.add(Conv2D(16,(3,3),activation = 'relu',input_shape=(256,256,3))) \n",
        "model.add(MaxPooling2D((2,2)))\n",
        "model.add(Dropout(0.25))"
      ],
      "execution_count": 0,
      "outputs": []
    },
    {
      "cell_type": "code",
      "metadata": {
        "id": "LOWsfNRejWZO",
        "colab_type": "code",
        "colab": {}
      },
      "source": [
        "model.add(Conv2D(32,(3,3),activation  = 'relu'))\n",
        "model.add(MaxPooling2D((2,2)))\n",
        "model.add(Dropout(0.25))"
      ],
      "execution_count": 0,
      "outputs": []
    },
    {
      "cell_type": "code",
      "metadata": {
        "id": "hzri3Xnlj5uK",
        "colab_type": "code",
        "colab": {}
      },
      "source": [
        "model.add(Conv2D(64,(3,3),activation  = 'relu'))\n",
        "model.add(MaxPooling2D((2,2)))\n",
        "model.add(Dropout(0.25))\n",
        "model.add(Flatten())"
      ],
      "execution_count": 0,
      "outputs": []
    },
    {
      "cell_type": "code",
      "metadata": {
        "id": "34eBqK_toDPx",
        "colab_type": "code",
        "colab": {}
      },
      "source": [
        "model.add(Dense(32, activation='relu'))\n",
        "model.add(Dropout(0.5))\n",
        "model.add(Dense(16, activation='relu'))\n",
        "model.add(Dropout(0.5))"
      ],
      "execution_count": 0,
      "outputs": []
    },
    {
      "cell_type": "code",
      "metadata": {
        "id": "ktm3RJhqkY8g",
        "colab_type": "code",
        "colab": {}
      },
      "source": [
        "model.add(Dense(5, activation='sigmoid'))\n"
      ],
      "execution_count": 0,
      "outputs": []
    },
    {
      "cell_type": "code",
      "metadata": {
        "id": "d5Yard3JlNzv",
        "colab_type": "code",
        "colab": {
          "base_uri": "https://localhost:8080/",
          "height": 646
        },
        "outputId": "932c7f5b-3029-4e93-a7bc-d83591360571"
      },
      "source": [
        "\n",
        "model.summary()"
      ],
      "execution_count": 88,
      "outputs": [
        {
          "output_type": "stream",
          "text": [
            "_________________________________________________________________\n",
            "Layer (type)                 Output Shape              Param #   \n",
            "=================================================================\n",
            "conv2d_33 (Conv2D)           (None, 254, 254, 16)      448       \n",
            "_________________________________________________________________\n",
            "max_pooling2d_28 (MaxPooling (None, 127, 127, 16)      0         \n",
            "_________________________________________________________________\n",
            "dropout_34 (Dropout)         (None, 127, 127, 16)      0         \n",
            "_________________________________________________________________\n",
            "conv2d_34 (Conv2D)           (None, 125, 125, 32)      4640      \n",
            "_________________________________________________________________\n",
            "max_pooling2d_29 (MaxPooling (None, 62, 62, 32)        0         \n",
            "_________________________________________________________________\n",
            "dropout_35 (Dropout)         (None, 62, 62, 32)        0         \n",
            "_________________________________________________________________\n",
            "conv2d_35 (Conv2D)           (None, 60, 60, 64)        18496     \n",
            "_________________________________________________________________\n",
            "max_pooling2d_30 (MaxPooling (None, 30, 30, 64)        0         \n",
            "_________________________________________________________________\n",
            "dropout_36 (Dropout)         (None, 30, 30, 64)        0         \n",
            "_________________________________________________________________\n",
            "flatten_4 (Flatten)          (None, 57600)             0         \n",
            "_________________________________________________________________\n",
            "dense_12 (Dense)             (None, 32)                1843232   \n",
            "_________________________________________________________________\n",
            "dropout_37 (Dropout)         (None, 32)                0         \n",
            "_________________________________________________________________\n",
            "dense_13 (Dense)             (None, 16)                528       \n",
            "_________________________________________________________________\n",
            "dropout_38 (Dropout)         (None, 16)                0         \n",
            "_________________________________________________________________\n",
            "dense_14 (Dense)             (None, 5)                 85        \n",
            "=================================================================\n",
            "Total params: 1,867,429\n",
            "Trainable params: 1,867,429\n",
            "Non-trainable params: 0\n",
            "_________________________________________________________________\n"
          ],
          "name": "stdout"
        }
      ]
    },
    {
      "cell_type": "code",
      "metadata": {
        "id": "XfPqu-Cbksbp",
        "colab_type": "code",
        "colab": {}
      },
      "source": [
        "model.compile(optimizer='rmsprop', loss='binary_crossentropy', metrics=['accuracy'])"
      ],
      "execution_count": 0,
      "outputs": []
    },
    {
      "cell_type": "code",
      "metadata": {
        "id": "uSzHMEkskv_G",
        "colab_type": "code",
        "colab": {
          "base_uri": "https://localhost:8080/",
          "height": 1000
        },
        "outputId": "c982efd8-2081-4608-fc56-4a9a814fb719"
      },
      "source": [
        "\n",
        "model.fit(x_train, y_train, epochs=100, validation_data=(x_test, y_test), batch_size=64)"
      ],
      "execution_count": 92,
      "outputs": [
        {
          "output_type": "stream",
          "text": [
            "Train on 675 samples, validate on 75 samples\n",
            "Epoch 1/100\n",
            "675/675 [==============================] - 2s 3ms/step - loss: 0.6896 - acc: 0.5422 - val_loss: 0.6972 - val_acc: 0.4933\n",
            "Epoch 2/100\n",
            "675/675 [==============================] - 1s 2ms/step - loss: 0.6896 - acc: 0.5422 - val_loss: 0.6972 - val_acc: 0.4933\n",
            "Epoch 3/100\n",
            "675/675 [==============================] - 1s 2ms/step - loss: 0.6895 - acc: 0.5422 - val_loss: 0.6972 - val_acc: 0.4933\n",
            "Epoch 4/100\n",
            "675/675 [==============================] - 1s 2ms/step - loss: 0.6893 - acc: 0.5422 - val_loss: 0.6973 - val_acc: 0.4933\n",
            "Epoch 5/100\n",
            "675/675 [==============================] - 1s 2ms/step - loss: 0.6895 - acc: 0.5422 - val_loss: 0.6972 - val_acc: 0.4933\n",
            "Epoch 6/100\n",
            "675/675 [==============================] - 1s 2ms/step - loss: 0.6897 - acc: 0.5422 - val_loss: 0.6972 - val_acc: 0.4933\n",
            "Epoch 7/100\n",
            "675/675 [==============================] - 1s 2ms/step - loss: 0.6895 - acc: 0.5422 - val_loss: 0.6973 - val_acc: 0.4933\n",
            "Epoch 8/100\n",
            "675/675 [==============================] - 1s 2ms/step - loss: 0.6894 - acc: 0.5422 - val_loss: 0.6973 - val_acc: 0.4933\n",
            "Epoch 9/100\n",
            "675/675 [==============================] - 1s 2ms/step - loss: 0.6891 - acc: 0.5422 - val_loss: 0.6974 - val_acc: 0.4933\n",
            "Epoch 10/100\n",
            "675/675 [==============================] - 1s 2ms/step - loss: 0.6895 - acc: 0.5422 - val_loss: 0.6974 - val_acc: 0.4933\n",
            "Epoch 11/100\n",
            "675/675 [==============================] - 1s 2ms/step - loss: 0.6895 - acc: 0.5422 - val_loss: 0.6974 - val_acc: 0.4933\n",
            "Epoch 12/100\n",
            "675/675 [==============================] - 1s 2ms/step - loss: 0.6892 - acc: 0.5422 - val_loss: 0.6974 - val_acc: 0.4933\n",
            "Epoch 13/100\n",
            "675/675 [==============================] - 1s 2ms/step - loss: 0.6893 - acc: 0.5422 - val_loss: 0.6975 - val_acc: 0.4933\n",
            "Epoch 14/100\n",
            "675/675 [==============================] - 1s 2ms/step - loss: 0.6894 - acc: 0.5422 - val_loss: 0.6976 - val_acc: 0.4933\n",
            "Epoch 15/100\n",
            "675/675 [==============================] - 1s 2ms/step - loss: 0.6892 - acc: 0.5422 - val_loss: 0.6976 - val_acc: 0.4933\n",
            "Epoch 16/100\n",
            "675/675 [==============================] - 1s 2ms/step - loss: 0.6894 - acc: 0.5422 - val_loss: 0.6975 - val_acc: 0.4933\n",
            "Epoch 17/100\n",
            "675/675 [==============================] - 1s 2ms/step - loss: 0.6894 - acc: 0.5422 - val_loss: 0.6975 - val_acc: 0.4933\n",
            "Epoch 18/100\n",
            "675/675 [==============================] - 1s 2ms/step - loss: 0.6894 - acc: 0.5422 - val_loss: 0.6976 - val_acc: 0.4933\n",
            "Epoch 19/100\n",
            "675/675 [==============================] - 1s 2ms/step - loss: 0.6894 - acc: 0.5422 - val_loss: 0.6976 - val_acc: 0.4933\n",
            "Epoch 20/100\n",
            "675/675 [==============================] - 1s 2ms/step - loss: 0.6892 - acc: 0.5422 - val_loss: 0.6976 - val_acc: 0.4933\n",
            "Epoch 21/100\n",
            "675/675 [==============================] - 1s 2ms/step - loss: 0.6895 - acc: 0.5422 - val_loss: 0.6976 - val_acc: 0.4933\n",
            "Epoch 22/100\n",
            "675/675 [==============================] - 1s 2ms/step - loss: 0.6892 - acc: 0.5422 - val_loss: 0.6977 - val_acc: 0.4933\n",
            "Epoch 23/100\n",
            "675/675 [==============================] - 1s 2ms/step - loss: 0.6891 - acc: 0.5422 - val_loss: 0.6977 - val_acc: 0.4933\n",
            "Epoch 24/100\n",
            "675/675 [==============================] - 1s 2ms/step - loss: 0.6895 - acc: 0.5422 - val_loss: 0.6977 - val_acc: 0.4933\n",
            "Epoch 25/100\n",
            "675/675 [==============================] - 1s 2ms/step - loss: 0.6894 - acc: 0.5422 - val_loss: 0.6976 - val_acc: 0.4933\n",
            "Epoch 26/100\n",
            "675/675 [==============================] - 1s 2ms/step - loss: 0.6893 - acc: 0.5422 - val_loss: 0.6976 - val_acc: 0.4933\n",
            "Epoch 27/100\n",
            "675/675 [==============================] - 1s 2ms/step - loss: 0.6893 - acc: 0.5422 - val_loss: 0.6976 - val_acc: 0.4933\n",
            "Epoch 28/100\n",
            "675/675 [==============================] - 1s 2ms/step - loss: 0.6894 - acc: 0.5422 - val_loss: 0.6976 - val_acc: 0.4933\n",
            "Epoch 29/100\n",
            "675/675 [==============================] - 1s 2ms/step - loss: 0.6893 - acc: 0.5422 - val_loss: 0.6976 - val_acc: 0.4933\n",
            "Epoch 30/100\n",
            "675/675 [==============================] - 1s 2ms/step - loss: 0.6895 - acc: 0.5422 - val_loss: 0.6975 - val_acc: 0.4933\n",
            "Epoch 31/100\n",
            "675/675 [==============================] - 1s 2ms/step - loss: 0.6893 - acc: 0.5422 - val_loss: 0.6976 - val_acc: 0.4933\n",
            "Epoch 32/100\n",
            "675/675 [==============================] - 1s 2ms/step - loss: 0.6892 - acc: 0.5422 - val_loss: 0.6977 - val_acc: 0.4933\n",
            "Epoch 33/100\n",
            "675/675 [==============================] - 1s 2ms/step - loss: 0.6895 - acc: 0.5422 - val_loss: 0.6976 - val_acc: 0.4933\n",
            "Epoch 34/100\n",
            "675/675 [==============================] - 1s 2ms/step - loss: 0.6894 - acc: 0.5422 - val_loss: 0.6976 - val_acc: 0.4933\n",
            "Epoch 35/100\n",
            "675/675 [==============================] - 1s 2ms/step - loss: 0.6896 - acc: 0.5422 - val_loss: 0.6976 - val_acc: 0.4933\n",
            "Epoch 36/100\n",
            "675/675 [==============================] - 1s 2ms/step - loss: 0.6892 - acc: 0.5422 - val_loss: 0.6977 - val_acc: 0.4933\n",
            "Epoch 37/100\n",
            "675/675 [==============================] - 1s 2ms/step - loss: 0.6892 - acc: 0.5422 - val_loss: 0.6978 - val_acc: 0.4933\n",
            "Epoch 38/100\n",
            "675/675 [==============================] - 1s 2ms/step - loss: 0.6894 - acc: 0.5422 - val_loss: 0.6978 - val_acc: 0.4933\n",
            "Epoch 39/100\n",
            "675/675 [==============================] - 1s 2ms/step - loss: 0.6893 - acc: 0.5422 - val_loss: 0.6978 - val_acc: 0.4933\n",
            "Epoch 40/100\n",
            "675/675 [==============================] - 1s 2ms/step - loss: 0.6892 - acc: 0.5422 - val_loss: 0.6979 - val_acc: 0.4933\n",
            "Epoch 41/100\n",
            "675/675 [==============================] - 1s 2ms/step - loss: 0.6894 - acc: 0.5422 - val_loss: 0.6979 - val_acc: 0.4933\n",
            "Epoch 42/100\n",
            "675/675 [==============================] - 1s 2ms/step - loss: 0.6894 - acc: 0.5422 - val_loss: 0.6978 - val_acc: 0.4933\n",
            "Epoch 43/100\n",
            "675/675 [==============================] - 1s 2ms/step - loss: 0.6893 - acc: 0.5422 - val_loss: 0.6978 - val_acc: 0.4933\n",
            "Epoch 44/100\n",
            "675/675 [==============================] - 1s 2ms/step - loss: 0.6891 - acc: 0.5422 - val_loss: 0.6979 - val_acc: 0.4933\n",
            "Epoch 45/100\n",
            "675/675 [==============================] - 1s 2ms/step - loss: 0.6892 - acc: 0.5422 - val_loss: 0.6978 - val_acc: 0.4933\n",
            "Epoch 46/100\n",
            "675/675 [==============================] - 1s 2ms/step - loss: 0.6897 - acc: 0.5422 - val_loss: 0.6977 - val_acc: 0.4933\n",
            "Epoch 47/100\n",
            "675/675 [==============================] - 1s 2ms/step - loss: 0.6893 - acc: 0.5422 - val_loss: 0.6977 - val_acc: 0.4933\n",
            "Epoch 48/100\n",
            "675/675 [==============================] - 1s 2ms/step - loss: 0.6893 - acc: 0.5422 - val_loss: 0.6976 - val_acc: 0.4933\n",
            "Epoch 49/100\n",
            "675/675 [==============================] - 1s 2ms/step - loss: 0.6893 - acc: 0.5422 - val_loss: 0.6977 - val_acc: 0.4933\n",
            "Epoch 50/100\n",
            "675/675 [==============================] - 1s 2ms/step - loss: 0.6895 - acc: 0.5422 - val_loss: 0.6976 - val_acc: 0.4933\n",
            "Epoch 51/100\n",
            "675/675 [==============================] - 1s 2ms/step - loss: 0.6894 - acc: 0.5422 - val_loss: 0.6975 - val_acc: 0.4933\n",
            "Epoch 52/100\n",
            "675/675 [==============================] - 1s 2ms/step - loss: 0.6894 - acc: 0.5422 - val_loss: 0.6976 - val_acc: 0.4933\n",
            "Epoch 53/100\n",
            "675/675 [==============================] - 1s 2ms/step - loss: 0.6894 - acc: 0.5422 - val_loss: 0.6976 - val_acc: 0.4933\n",
            "Epoch 54/100\n",
            "675/675 [==============================] - 1s 2ms/step - loss: 0.6894 - acc: 0.5422 - val_loss: 0.6975 - val_acc: 0.4933\n",
            "Epoch 55/100\n",
            "675/675 [==============================] - 1s 2ms/step - loss: 0.6892 - acc: 0.5422 - val_loss: 0.6976 - val_acc: 0.4933\n",
            "Epoch 56/100\n",
            "675/675 [==============================] - 1s 2ms/step - loss: 0.6895 - acc: 0.5422 - val_loss: 0.6975 - val_acc: 0.4933\n",
            "Epoch 57/100\n",
            "675/675 [==============================] - 1s 2ms/step - loss: 0.6894 - acc: 0.5422 - val_loss: 0.6974 - val_acc: 0.4933\n",
            "Epoch 58/100\n",
            "675/675 [==============================] - 1s 2ms/step - loss: 0.6895 - acc: 0.5422 - val_loss: 0.6974 - val_acc: 0.4933\n",
            "Epoch 59/100\n",
            "675/675 [==============================] - 1s 2ms/step - loss: 0.6894 - acc: 0.5422 - val_loss: 0.6974 - val_acc: 0.4933\n",
            "Epoch 60/100\n",
            "675/675 [==============================] - 1s 2ms/step - loss: 0.6893 - acc: 0.5422 - val_loss: 0.6974 - val_acc: 0.4933\n",
            "Epoch 61/100\n",
            "675/675 [==============================] - 1s 2ms/step - loss: 0.6894 - acc: 0.5422 - val_loss: 0.6974 - val_acc: 0.4933\n",
            "Epoch 62/100\n",
            "675/675 [==============================] - 1s 2ms/step - loss: 0.6894 - acc: 0.5422 - val_loss: 0.6975 - val_acc: 0.4933\n",
            "Epoch 63/100\n",
            "675/675 [==============================] - 1s 2ms/step - loss: 0.6894 - acc: 0.5422 - val_loss: 0.6974 - val_acc: 0.4933\n",
            "Epoch 64/100\n",
            "675/675 [==============================] - 1s 2ms/step - loss: 0.6894 - acc: 0.5422 - val_loss: 0.6974 - val_acc: 0.4933\n",
            "Epoch 65/100\n",
            "675/675 [==============================] - 1s 2ms/step - loss: 0.6894 - acc: 0.5422 - val_loss: 0.6974 - val_acc: 0.4933\n",
            "Epoch 66/100\n",
            "675/675 [==============================] - 1s 2ms/step - loss: 0.6893 - acc: 0.5422 - val_loss: 0.6974 - val_acc: 0.4933\n",
            "Epoch 67/100\n",
            "675/675 [==============================] - 1s 2ms/step - loss: 0.6893 - acc: 0.5422 - val_loss: 0.6975 - val_acc: 0.4933\n",
            "Epoch 68/100\n",
            "675/675 [==============================] - 1s 2ms/step - loss: 0.6892 - acc: 0.5422 - val_loss: 0.6975 - val_acc: 0.4933\n",
            "Epoch 69/100\n",
            "675/675 [==============================] - 1s 2ms/step - loss: 0.6894 - acc: 0.5422 - val_loss: 0.6974 - val_acc: 0.4933\n",
            "Epoch 70/100\n",
            "675/675 [==============================] - 1s 2ms/step - loss: 0.6893 - acc: 0.5422 - val_loss: 0.6975 - val_acc: 0.4933\n",
            "Epoch 71/100\n",
            "675/675 [==============================] - 1s 2ms/step - loss: 0.6893 - acc: 0.5422 - val_loss: 0.6975 - val_acc: 0.4933\n",
            "Epoch 72/100\n",
            "675/675 [==============================] - 1s 2ms/step - loss: 0.6891 - acc: 0.5422 - val_loss: 0.6976 - val_acc: 0.4933\n",
            "Epoch 73/100\n",
            "675/675 [==============================] - 1s 2ms/step - loss: 0.6894 - acc: 0.5422 - val_loss: 0.6976 - val_acc: 0.4933\n",
            "Epoch 74/100\n",
            "675/675 [==============================] - 1s 2ms/step - loss: 0.6893 - acc: 0.5422 - val_loss: 0.6976 - val_acc: 0.4933\n",
            "Epoch 75/100\n",
            "675/675 [==============================] - 1s 2ms/step - loss: 0.6893 - acc: 0.5422 - val_loss: 0.6976 - val_acc: 0.4933\n",
            "Epoch 76/100\n",
            "675/675 [==============================] - 1s 2ms/step - loss: 0.6893 - acc: 0.5422 - val_loss: 0.6976 - val_acc: 0.4933\n",
            "Epoch 77/100\n",
            "675/675 [==============================] - 1s 2ms/step - loss: 0.6892 - acc: 0.5422 - val_loss: 0.6976 - val_acc: 0.4933\n",
            "Epoch 78/100\n",
            "675/675 [==============================] - 1s 2ms/step - loss: 0.6892 - acc: 0.5422 - val_loss: 0.6976 - val_acc: 0.4933\n",
            "Epoch 79/100\n",
            "675/675 [==============================] - 1s 2ms/step - loss: 0.6893 - acc: 0.5422 - val_loss: 0.6976 - val_acc: 0.4933\n",
            "Epoch 80/100\n",
            "675/675 [==============================] - 1s 2ms/step - loss: 0.6894 - acc: 0.5422 - val_loss: 0.6975 - val_acc: 0.4933\n",
            "Epoch 81/100\n",
            "675/675 [==============================] - 1s 2ms/step - loss: 0.6894 - acc: 0.5422 - val_loss: 0.6974 - val_acc: 0.4933\n",
            "Epoch 82/100\n",
            "675/675 [==============================] - 1s 2ms/step - loss: 0.6893 - acc: 0.5422 - val_loss: 0.6974 - val_acc: 0.4933\n",
            "Epoch 83/100\n",
            "675/675 [==============================] - 1s 2ms/step - loss: 0.6893 - acc: 0.5422 - val_loss: 0.6974 - val_acc: 0.4933\n",
            "Epoch 84/100\n",
            "675/675 [==============================] - 1s 2ms/step - loss: 0.6893 - acc: 0.5422 - val_loss: 0.6974 - val_acc: 0.4933\n",
            "Epoch 85/100\n",
            "675/675 [==============================] - 1s 2ms/step - loss: 0.6895 - acc: 0.5422 - val_loss: 0.6974 - val_acc: 0.4933\n",
            "Epoch 86/100\n",
            "675/675 [==============================] - 1s 2ms/step - loss: 0.6893 - acc: 0.5422 - val_loss: 0.6974 - val_acc: 0.4933\n",
            "Epoch 87/100\n",
            "675/675 [==============================] - 1s 2ms/step - loss: 0.6894 - acc: 0.5422 - val_loss: 0.6974 - val_acc: 0.4933\n",
            "Epoch 88/100\n",
            "675/675 [==============================] - 1s 2ms/step - loss: 0.6893 - acc: 0.5422 - val_loss: 0.6974 - val_acc: 0.4933\n",
            "Epoch 89/100\n",
            "675/675 [==============================] - 1s 2ms/step - loss: 0.6893 - acc: 0.5422 - val_loss: 0.6975 - val_acc: 0.4933\n",
            "Epoch 90/100\n",
            "675/675 [==============================] - 1s 2ms/step - loss: 0.6894 - acc: 0.5422 - val_loss: 0.6975 - val_acc: 0.4933\n",
            "Epoch 91/100\n",
            "675/675 [==============================] - 1s 2ms/step - loss: 0.6894 - acc: 0.5422 - val_loss: 0.6974 - val_acc: 0.4933\n",
            "Epoch 92/100\n",
            "675/675 [==============================] - 1s 2ms/step - loss: 0.6893 - acc: 0.5422 - val_loss: 0.6975 - val_acc: 0.4933\n",
            "Epoch 93/100\n",
            "675/675 [==============================] - 1s 2ms/step - loss: 0.6894 - acc: 0.5422 - val_loss: 0.6974 - val_acc: 0.4933\n",
            "Epoch 94/100\n",
            "675/675 [==============================] - 1s 2ms/step - loss: 0.6894 - acc: 0.5422 - val_loss: 0.6974 - val_acc: 0.4933\n",
            "Epoch 95/100\n",
            "675/675 [==============================] - 1s 2ms/step - loss: 0.6893 - acc: 0.5422 - val_loss: 0.6974 - val_acc: 0.4933\n",
            "Epoch 96/100\n",
            "675/675 [==============================] - 1s 2ms/step - loss: 0.6893 - acc: 0.5422 - val_loss: 0.6975 - val_acc: 0.4933\n",
            "Epoch 97/100\n",
            "675/675 [==============================] - 1s 2ms/step - loss: 0.6893 - acc: 0.5422 - val_loss: 0.6975 - val_acc: 0.4933\n",
            "Epoch 98/100\n",
            "675/675 [==============================] - 1s 2ms/step - loss: 0.6894 - acc: 0.5422 - val_loss: 0.6975 - val_acc: 0.4933\n",
            "Epoch 99/100\n",
            "675/675 [==============================] - 1s 2ms/step - loss: 0.6893 - acc: 0.5422 - val_loss: 0.6975 - val_acc: 0.4933\n",
            "Epoch 100/100\n",
            "675/675 [==============================] - 1s 2ms/step - loss: 0.6894 - acc: 0.5422 - val_loss: 0.6975 - val_acc: 0.4933\n"
          ],
          "name": "stdout"
        },
        {
          "output_type": "execute_result",
          "data": {
            "text/plain": [
              "<keras.callbacks.History at 0x7f2fc9241b00>"
            ]
          },
          "metadata": {
            "tags": []
          },
          "execution_count": 92
        }
      ]
    },
    {
      "cell_type": "code",
      "metadata": {
        "id": "XvEgdVqdk_Fs",
        "colab_type": "code",
        "colab": {}
      },
      "source": [
        "from keras.preprocessing.image import ImageDataGenerator\n",
        "datagen = ImageDataGenerator(\n",
        "    featurewise_center=True,\n",
        "    featurewise_std_normalization=True,\n",
        "    rotation_range=20,\n",
        "    width_shift_range=0.2,\n",
        "    height_shift_range=0.2,\n",
        "    horizontal_flip=True)"
      ],
      "execution_count": 0,
      "outputs": []
    },
    {
      "cell_type": "code",
      "metadata": {
        "id": "va1Lekprt1HY",
        "colab_type": "code",
        "colab": {
          "base_uri": "https://localhost:8080/",
          "height": 1000
        },
        "outputId": "89eacd87-692f-4f77-d985-89b2793f6aea"
      },
      "source": [
        "datagen.fit(x_train)\n",
        "model.fit_generator(datagen.flow(x_train, y_train, batch_size=32),\n",
        "                    steps_per_epoch= 50, epochs=20, validation_data=(x_test, y_test))"
      ],
      "execution_count": 100,
      "outputs": [
        {
          "output_type": "stream",
          "text": [
            "Epoch 1/20\n",
            "50/50 [==============================] - 19s 388ms/step - loss: 0.6889 - acc: 0.5445 - val_loss: 0.6979 - val_acc: 0.4933\n",
            "Epoch 2/20\n",
            "50/50 [==============================] - 19s 383ms/step - loss: 0.6900 - acc: 0.5382 - val_loss: 0.6977 - val_acc: 0.4933\n",
            "Epoch 3/20\n",
            "50/50 [==============================] - 19s 382ms/step - loss: 0.6892 - acc: 0.5431 - val_loss: 0.6978 - val_acc: 0.4933\n",
            "Epoch 4/20\n",
            "50/50 [==============================] - 19s 375ms/step - loss: 0.6894 - acc: 0.5404 - val_loss: 0.6976 - val_acc: 0.4933\n",
            "Epoch 5/20\n",
            "50/50 [==============================] - 19s 383ms/step - loss: 0.6895 - acc: 0.5409 - val_loss: 0.6973 - val_acc: 0.4933\n",
            "Epoch 6/20\n",
            "50/50 [==============================] - 19s 386ms/step - loss: 0.6893 - acc: 0.5425 - val_loss: 0.6971 - val_acc: 0.4933\n",
            "Epoch 7/20\n",
            "50/50 [==============================] - 19s 378ms/step - loss: 0.6901 - acc: 0.5387 - val_loss: 0.6973 - val_acc: 0.4933\n",
            "Epoch 8/20\n",
            "50/50 [==============================] - 19s 375ms/step - loss: 0.6895 - acc: 0.5422 - val_loss: 0.6972 - val_acc: 0.4933\n",
            "Epoch 9/20\n",
            "50/50 [==============================] - 19s 382ms/step - loss: 0.6884 - acc: 0.5475 - val_loss: 0.6975 - val_acc: 0.4933\n",
            "Epoch 10/20\n",
            "50/50 [==============================] - 19s 374ms/step - loss: 0.6896 - acc: 0.5390 - val_loss: 0.6973 - val_acc: 0.4933\n",
            "Epoch 11/20\n",
            "50/50 [==============================] - 19s 371ms/step - loss: 0.6899 - acc: 0.5400 - val_loss: 0.6974 - val_acc: 0.4933\n",
            "Epoch 12/20\n",
            "50/50 [==============================] - 19s 378ms/step - loss: 0.6885 - acc: 0.5458 - val_loss: 0.6976 - val_acc: 0.4933\n",
            "Epoch 13/20\n",
            "50/50 [==============================] - 19s 384ms/step - loss: 0.6895 - acc: 0.5413 - val_loss: 0.6974 - val_acc: 0.4933\n",
            "Epoch 14/20\n",
            "50/50 [==============================] - 19s 379ms/step - loss: 0.6898 - acc: 0.5394 - val_loss: 0.6976 - val_acc: 0.4933\n",
            "Epoch 15/20\n",
            "50/50 [==============================] - 19s 374ms/step - loss: 0.6896 - acc: 0.5398 - val_loss: 0.6974 - val_acc: 0.4933\n",
            "Epoch 16/20\n",
            "50/50 [==============================] - 19s 379ms/step - loss: 0.6884 - acc: 0.5485 - val_loss: 0.6973 - val_acc: 0.4933\n",
            "Epoch 17/20\n",
            "50/50 [==============================] - 19s 383ms/step - loss: 0.6890 - acc: 0.5427 - val_loss: 0.6976 - val_acc: 0.4933\n",
            "Epoch 18/20\n",
            "50/50 [==============================] - 19s 380ms/step - loss: 0.6889 - acc: 0.5429 - val_loss: 0.6976 - val_acc: 0.4933\n",
            "Epoch 19/20\n",
            "50/50 [==============================] - 19s 374ms/step - loss: 0.6907 - acc: 0.5353 - val_loss: 0.6976 - val_acc: 0.4933\n",
            "Epoch 20/20\n",
            "50/50 [==============================] - 19s 382ms/step - loss: 0.6890 - acc: 0.5415 - val_loss: 0.6973 - val_acc: 0.4933\n"
          ],
          "name": "stdout"
        },
        {
          "output_type": "execute_result",
          "data": {
            "text/plain": [
              "<keras.callbacks.History at 0x7f2fb0de2940>"
            ]
          },
          "metadata": {
            "tags": []
          },
          "execution_count": 100
        }
      ]
    },
    {
      "cell_type": "code",
      "metadata": {
        "id": "VCrHr4D5uHqx",
        "colab_type": "code",
        "colab": {
          "base_uri": "https://localhost:8080/",
          "height": 51
        },
        "outputId": "5b852bd5-4590-4490-bdc1-c501babcf094"
      },
      "source": [
        "score = model.predict(x_test)\n",
        "score[0]"
      ],
      "execution_count": 109,
      "outputs": [
        {
          "output_type": "execute_result",
          "data": {
            "text/plain": [
              "array([0.4692537 , 0.4401942 , 0.4708998 , 0.46447688, 0.44325987],\n",
              "      dtype=float32)"
            ]
          },
          "metadata": {
            "tags": []
          },
          "execution_count": 109
        }
      ]
    },
    {
      "cell_type": "code",
      "metadata": {
        "id": "pltHZ_67yQpm",
        "colab_type": "code",
        "colab": {}
      },
      "source": [
        "img = image.load_img('/content/batman_-the-animated-series-wallpapers-31516-8657587.jpg',target_size=(256,256,3))\n",
        "img = image.img_to_array(img)\n",
        "img = img/255"
      ],
      "execution_count": 0,
      "outputs": []
    },
    {
      "cell_type": "code",
      "metadata": {
        "id": "FPwcEw2f1C2l",
        "colab_type": "code",
        "colab": {
          "base_uri": "https://localhost:8080/",
          "height": 337
        },
        "outputId": "51ffb6a5-7a05-48ee-99ba-72548e68d594"
      },
      "source": [
        "classes = np.array(train.columns[2:])\n",
        "proba = model.predict(img.reshape(1,256,256,3))\n",
        "top_3 = np.argsort(proba[0])[:-4:-1]\n",
        "for i in range(3):\n",
        "  print(\"{}\".format(classes[top_3[i]])+\" ({:.3})\".format(proba[0][top_3[i]]))\n",
        "plt.imshow(img)"
      ],
      "execution_count": 113,
      "outputs": [
        {
          "output_type": "stream",
          "text": [
            "Low Resolution  (0.471)\n",
            "Blur (0.469)\n",
            "Compression Artifact  (0.464)\n"
          ],
          "name": "stdout"
        },
        {
          "output_type": "execute_result",
          "data": {
            "text/plain": [
              "<matplotlib.image.AxesImage at 0x7f2fb04c8e10>"
            ]
          },
          "metadata": {
            "tags": []
          },
          "execution_count": 113
        },
        {
          "output_type": "display_data",
          "data": {
            "image/png": "[encoded data removed]",
            "text/plain": [
              "<Figure size 432x288 with 1 Axes>"
            ]
          },
          "metadata": {
            "tags": []
          }
        }
      ]
    },
    {
      "cell_type": "code",
      "metadata": {
        "id": "bpX80-na1Gk8",
        "colab_type": "code",
        "colab": {}
      },
      "source": [
        ""
      ],
      "execution_count": 0,
      "outputs": []
    }
  ]
}